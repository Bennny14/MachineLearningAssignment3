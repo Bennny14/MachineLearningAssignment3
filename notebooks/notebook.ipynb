{
  "cells": [
    {
      "cell_type": "code",
      "source": [
        "# Imports\n",
        "\n",
        "\n",
        "import tensorflow as tf\n",
        "import numpy as np\n",
        "import matplotlib.pyplot as plt\n",
        "from tensorflow.keras import layers, models, callbacks, optimizers"
      ],
      "metadata": {
        "id": "DXLpuQMC4V1R"
      },
      "id": "DXLpuQMC4V1R",
      "execution_count": 1,
      "outputs": []
    },
    {
      "cell_type": "markdown",
      "source": [
        "## Exercise 1:  Training Deep Neural Network on MNIST"
      ],
      "metadata": {
        "id": "uYuVpTir4NzQ"
      },
      "id": "uYuVpTir4NzQ"
    },
    {
      "cell_type": "code",
      "source": [
        "# Exercise 1\n",
        "\n",
        "seed = 42\n",
        "np.random.seed(seed)\n",
        "tf.random.set_seed(seed)\n",
        "\n",
        "# Loading and preprocessing\n",
        "(x_train, y_train), (x_test, y_test) = tf.keras.datasets.mnist.load_data()\n",
        "\n",
        "# Use only the first 1000 training and 200 test samples\n",
        "x_train, y_train = x_train[:1000], y_train[:1000]\n",
        "x_test, y_test = x_test[:200], y_test[:200]\n",
        "\n",
        "# Normalize pixel values to [0,1]\n",
        "x_train = x_train.astype(\"float32\") / 255.0\n",
        "x_test = x_test.astype(\"float32\") / 255.0\n",
        "\n",
        "# Flatten images (28x28 -> 784)\n",
        "x_train = x_train.reshape((x_train.shape[0], 28 * 28))\n",
        "x_test = x_test.reshape((x_test.shape[0], 28 * 28))"
      ],
      "metadata": {
        "id": "gTX7Zz_V4a0v"
      },
      "id": "gTX7Zz_V4a0v",
      "execution_count": null,
      "outputs": []
    }
  ],
  "metadata": {
    "language_info": {
      "name": "python"
    },
    "colab": {
      "provenance": [],
      "gpuType": "T4"
    },
    "kernelspec": {
      "name": "python3",
      "display_name": "Python 3"
    },
    "accelerator": "GPU"
  },
  "nbformat": 4,
  "nbformat_minor": 5
}